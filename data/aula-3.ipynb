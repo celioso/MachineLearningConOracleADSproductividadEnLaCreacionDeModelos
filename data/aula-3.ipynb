{
 "cells": [
  {
   "cell_type": "markdown",
   "id": "0422586f",
   "metadata": {},
   "source": [
    "### OCI Data Science - Useful Tips\n",
    "<details>\n",
    "<summary><font size=\"2\">Check for Public Internet Access</font></summary>\n",
    "\n",
    "```python\n",
    "import requests\n",
    "response = requests.get(\"https://oracle.com\")\n",
    "assert response.status_code==200, \"Internet connection failed\"\n",
    "```\n",
    "</details>\n",
    "<details>\n",
    "<summary><font size=\"2\">Helpful Documentation </font></summary>\n",
    "<ul><li><a href=\"https://docs.cloud.oracle.com/en-us/iaas/data-science/using/data-science.htm\">Data Science Service Documentation</a></li>\n",
    "<li><a href=\"https://docs.cloud.oracle.com/iaas/tools/ads-sdk/latest/index.html\">ADS documentation</a></li>\n",
    "</ul>\n",
    "</details>\n",
    "<details>\n",
    "<summary><font size=\"2\">Typical Cell Imports and Settings for ADS</font></summary>\n",
    "\n",
    "```python\n",
    "%load_ext autoreload\n",
    "%autoreload 2\n",
    "%matplotlib inline\n",
    "\n",
    "import warnings\n",
    "warnings.filterwarnings('ignore')\n",
    "\n",
    "import logging\n",
    "logging.basicConfig(format='%(levelname)s:%(message)s', level=logging.ERROR)\n",
    "\n",
    "import ads\n",
    "from ads.dataset.factory import DatasetFactory\n",
    "from ads.automl.provider import OracleAutoMLProvider\n",
    "from ads.automl.driver import AutoML\n",
    "from ads.evaluations.evaluator import ADSEvaluator\n",
    "from ads.common.data import ADSData\n",
    "from ads.explanations.explainer import ADSExplainer\n",
    "from ads.explanations.mlx_global_explainer import MLXGlobalExplainer\n",
    "from ads.explanations.mlx_local_explainer import MLXLocalExplainer\n",
    "from ads.catalog.model import ModelCatalog\n",
    "from ads.common.model_artifact import ModelArtifact\n",
    "```\n",
    "</details>\n",
    "<details>\n",
    "<summary><font size=\"2\">Useful Environment Variables</font></summary>\n",
    "\n",
    "```python\n",
    "import os\n",
    "print(os.environ[\"NB_SESSION_COMPARTMENT_OCID\"])\n",
    "print(os.environ[\"PROJECT_OCID\"])\n",
    "print(os.environ[\"USER_OCID\"])\n",
    "print(os.environ[\"TENANCY_OCID\"])\n",
    "print(os.environ[\"NB_REGION\"])\n",
    "```\n",
    "</details>"
   ]
  },
  {
   "cell_type": "markdown",
   "id": "f8b4faba",
   "metadata": {},
   "source": [
    "### 1.2 Creando el Notebook"
   ]
  },
  {
   "cell_type": "code",
   "execution_count": 1,
   "id": "fd2d3e74",
   "metadata": {},
   "outputs": [],
   "source": [
    "import ads"
   ]
  },
  {
   "cell_type": "code",
   "execution_count": 2,
   "id": "26db32be",
   "metadata": {},
   "outputs": [
    {
     "data": {
      "text/plain": [
       "'2.5.4'"
      ]
     },
     "execution_count": 2,
     "metadata": {},
     "output_type": "execute_result"
    }
   ],
   "source": [
    "ads.__version__"
   ]
  },
  {
   "cell_type": "markdown",
   "id": "4a230d9d",
   "metadata": {},
   "source": [
    "### 1.3 Lectura de la base de datos"
   ]
  },
  {
   "cell_type": "code",
   "execution_count": 3,
   "id": "09f1dde0",
   "metadata": {},
   "outputs": [],
   "source": [
    "from ads.dataset.factory import DatasetFactory"
   ]
  },
  {
   "cell_type": "code",
   "execution_count": 4,
   "id": "bea7b460",
   "metadata": {},
   "outputs": [
    {
     "data": {
      "application/vnd.jupyter.widget-view+json": {
       "model_id": "",
       "version_major": 2,
       "version_minor": 0
      },
      "text/plain": [
       "loop1:   0%|          | 0/4 [00:00<?, ?it/s]"
      ]
     },
     "metadata": {},
     "output_type": "display_data"
    }
   ],
   "source": [
    "ds = DatasetFactory.open('datos_salud_final.csv')"
   ]
  },
  {
   "cell_type": "code",
   "execution_count": 5,
   "id": "e803b08e",
   "metadata": {},
   "outputs": [
    {
     "data": {
      "application/vnd.jupyter.widget-view+json": {
       "model_id": "42893871bf51441aa25080c0742ab3c4",
       "version_major": 2,
       "version_minor": 0
      },
      "text/plain": [
       "HTML(value='\\n        <style>\\n            .mostly-customized-scrollbar {\\n              display: block;\\n    …"
      ]
     },
     "metadata": {},
     "output_type": "display_data"
    },
    {
     "data": {
      "text/plain": [
       "6,954 rows, 16 columns"
      ]
     },
     "execution_count": 5,
     "metadata": {},
     "output_type": "execute_result"
    }
   ],
   "source": [
    "ds"
   ]
  },
  {
   "cell_type": "code",
   "execution_count": 6,
   "id": "88f64a0a",
   "metadata": {},
   "outputs": [
    {
     "data": {
      "text/plain": [
       "ads.dataset.dataset.ADSDataset"
      ]
     },
     "execution_count": 6,
     "metadata": {},
     "output_type": "execute_result"
    }
   ],
   "source": [
    "type(ds)"
   ]
  },
  {
   "cell_type": "code",
   "execution_count": 7,
   "id": "acabe819",
   "metadata": {},
   "outputs": [
    {
     "data": {
      "text/plain": [
       "Index(['sexo', 'edad', 'fumador', 'cigarrillos_por_dia',\n",
       "       'uso_medicamento_presion', 'acv', 'hipertension', 'diabetes',\n",
       "       'colesterol_total', 'presion_arterial_sistolica',\n",
       "       'presion_arterial_diastolica', 'imc', 'frecuencia_cardiaca', 'glicemia',\n",
       "       'categoria_de_fumador', 'riesgo_eac_decada'],\n",
       "      dtype='object')"
      ]
     },
     "execution_count": 7,
     "metadata": {},
     "output_type": "execute_result"
    }
   ],
   "source": [
    "ds.columns"
   ]
  },
  {
   "cell_type": "code",
   "execution_count": 8,
   "id": "3908de08",
   "metadata": {},
   "outputs": [
    {
     "data": {
      "application/vnd.jupyter.widget-view+json": {
       "model_id": "",
       "version_major": 2,
       "version_minor": 0
      },
      "text/plain": [
       "loop1:   0%|          | 0/4 [00:00<?, ?it/s]"
      ]
     },
     "metadata": {},
     "output_type": "display_data"
    },
    {
     "data": {
      "text/html": [
       "<div>\n",
       "<style scoped>\n",
       "    .dataframe tbody tr th:only-of-type {\n",
       "        vertical-align: middle;\n",
       "    }\n",
       "\n",
       "    .dataframe tbody tr th {\n",
       "        vertical-align: top;\n",
       "    }\n",
       "\n",
       "    .dataframe thead th {\n",
       "        text-align: right;\n",
       "    }\n",
       "</style>\n",
       "<table border=\"1\" class=\"dataframe\">\n",
       "  <thead>\n",
       "    <tr style=\"text-align: right;\">\n",
       "      <th></th>\n",
       "      <th>sexo</th>\n",
       "      <th>edad</th>\n",
       "      <th>fumador</th>\n",
       "      <th>cigarrillos_por_dia</th>\n",
       "      <th>uso_medicamento_presion</th>\n",
       "      <th>acv</th>\n",
       "      <th>hipertension</th>\n",
       "      <th>diabetes</th>\n",
       "      <th>colesterol_total</th>\n",
       "      <th>presion_arterial_sistolica</th>\n",
       "      <th>presion_arterial_diastolica</th>\n",
       "      <th>imc</th>\n",
       "      <th>frecuencia_cardiaca</th>\n",
       "      <th>glicemia</th>\n",
       "      <th>categoria_de_fumador</th>\n",
       "      <th>riesgo_eac_decada</th>\n",
       "    </tr>\n",
       "  </thead>\n",
       "  <tbody>\n",
       "    <tr>\n",
       "      <th>0</th>\n",
       "      <td>1</td>\n",
       "      <td>39</td>\n",
       "      <td>0</td>\n",
       "      <td>0</td>\n",
       "      <td>0</td>\n",
       "      <td>0</td>\n",
       "      <td>0</td>\n",
       "      <td>0</td>\n",
       "      <td>195.0</td>\n",
       "      <td>106.0</td>\n",
       "      <td>70.0</td>\n",
       "      <td>26.97</td>\n",
       "      <td>80.0</td>\n",
       "      <td>77.0</td>\n",
       "      <td>0</td>\n",
       "      <td>0</td>\n",
       "    </tr>\n",
       "    <tr>\n",
       "      <th>1</th>\n",
       "      <td>0</td>\n",
       "      <td>46</td>\n",
       "      <td>0</td>\n",
       "      <td>0</td>\n",
       "      <td>0</td>\n",
       "      <td>0</td>\n",
       "      <td>0</td>\n",
       "      <td>0</td>\n",
       "      <td>250.0</td>\n",
       "      <td>121.0</td>\n",
       "      <td>81.0</td>\n",
       "      <td>28.73</td>\n",
       "      <td>95.0</td>\n",
       "      <td>76.0</td>\n",
       "      <td>0</td>\n",
       "      <td>0</td>\n",
       "    </tr>\n",
       "    <tr>\n",
       "      <th>2</th>\n",
       "      <td>1</td>\n",
       "      <td>48</td>\n",
       "      <td>1</td>\n",
       "      <td>20</td>\n",
       "      <td>0</td>\n",
       "      <td>0</td>\n",
       "      <td>0</td>\n",
       "      <td>0</td>\n",
       "      <td>245.0</td>\n",
       "      <td>127.5</td>\n",
       "      <td>80.0</td>\n",
       "      <td>25.34</td>\n",
       "      <td>75.0</td>\n",
       "      <td>70.0</td>\n",
       "      <td>2</td>\n",
       "      <td>0</td>\n",
       "    </tr>\n",
       "    <tr>\n",
       "      <th>3</th>\n",
       "      <td>0</td>\n",
       "      <td>61</td>\n",
       "      <td>1</td>\n",
       "      <td>30</td>\n",
       "      <td>0</td>\n",
       "      <td>0</td>\n",
       "      <td>1</td>\n",
       "      <td>0</td>\n",
       "      <td>225.0</td>\n",
       "      <td>150.0</td>\n",
       "      <td>95.0</td>\n",
       "      <td>28.58</td>\n",
       "      <td>65.0</td>\n",
       "      <td>103.0</td>\n",
       "      <td>3</td>\n",
       "      <td>1</td>\n",
       "    </tr>\n",
       "    <tr>\n",
       "      <th>4</th>\n",
       "      <td>0</td>\n",
       "      <td>46</td>\n",
       "      <td>1</td>\n",
       "      <td>23</td>\n",
       "      <td>0</td>\n",
       "      <td>0</td>\n",
       "      <td>0</td>\n",
       "      <td>0</td>\n",
       "      <td>285.0</td>\n",
       "      <td>130.0</td>\n",
       "      <td>84.0</td>\n",
       "      <td>23.10</td>\n",
       "      <td>85.0</td>\n",
       "      <td>85.0</td>\n",
       "      <td>3</td>\n",
       "      <td>0</td>\n",
       "    </tr>\n",
       "  </tbody>\n",
       "</table>\n",
       "</div>"
      ],
      "text/plain": [
       "   sexo  edad  fumador  cigarrillos_por_dia  uso_medicamento_presion  acv  \\\n",
       "0     1    39        0                    0                        0    0   \n",
       "1     0    46        0                    0                        0    0   \n",
       "2     1    48        1                   20                        0    0   \n",
       "3     0    61        1                   30                        0    0   \n",
       "4     0    46        1                   23                        0    0   \n",
       "\n",
       "   hipertension  diabetes  colesterol_total  presion_arterial_sistolica  \\\n",
       "0             0         0             195.0                       106.0   \n",
       "1             0         0             250.0                       121.0   \n",
       "2             0         0             245.0                       127.5   \n",
       "3             1         0             225.0                       150.0   \n",
       "4             0         0             285.0                       130.0   \n",
       "\n",
       "   presion_arterial_diastolica    imc  frecuencia_cardiaca  glicemia  \\\n",
       "0                         70.0  26.97                 80.0      77.0   \n",
       "1                         81.0  28.73                 95.0      76.0   \n",
       "2                         80.0  25.34                 75.0      70.0   \n",
       "3                         95.0  28.58                 65.0     103.0   \n",
       "4                         84.0  23.10                 85.0      85.0   \n",
       "\n",
       "   categoria_de_fumador  riesgo_eac_decada  \n",
       "0                     0                  0  \n",
       "1                     0                  0  \n",
       "2                     2                  0  \n",
       "3                     3                  1  \n",
       "4                     3                  0  "
      ]
     },
     "execution_count": 8,
     "metadata": {},
     "output_type": "execute_result"
    }
   ],
   "source": [
    "ds = DatasetFactory.open('datos_salud_final.csv', target='riesgo_eac_decada')\n",
    "ds.head()"
   ]
  },
  {
   "cell_type": "code",
   "execution_count": 9,
   "id": "801bcd84",
   "metadata": {},
   "outputs": [
    {
     "data": {
      "text/plain": [
       "ads.dataset.classification_dataset.BinaryClassificationDataset"
      ]
     },
     "execution_count": 9,
     "metadata": {},
     "output_type": "execute_result"
    }
   ],
   "source": [
    "type(ds)"
   ]
  },
  {
   "cell_type": "code",
   "execution_count": 10,
   "id": "50779644",
   "metadata": {},
   "outputs": [
    {
     "data": {
      "image/png": "[encoded data removed]",
      "text/plain": [
       "<Figure size 576x432 with 1 Axes>"
      ]
     },
     "metadata": {},
     "output_type": "display_data"
    }
   ],
   "source": [
    "ds.target.show_in_notebook()"
   ]
  },
  {
   "cell_type": "markdown",
   "id": "0b28db6b",
   "metadata": {},
   "source": [
    "### 1.4 Creando nuestro primer modelo"
   ]
  },
  {
   "cell_type": "code",
   "execution_count": 11,
   "id": "afe9a67b",
   "metadata": {},
   "outputs": [],
   "source": [
    "import numpy as np\n",
    "\n",
    "np.random.seed(42)"
   ]
  },
  {
   "cell_type": "code",
   "execution_count": 12,
   "id": "1283b2b8",
   "metadata": {},
   "outputs": [],
   "source": [
    "train, test = ds.train_test_split()"
   ]
  },
  {
   "cell_type": "code",
   "execution_count": 13,
   "id": "c2786016",
   "metadata": {},
   "outputs": [
    {
     "data": {
      "text/html": [
       "<div>\n",
       "<style scoped>\n",
       "    .dataframe tbody tr th:only-of-type {\n",
       "        vertical-align: middle;\n",
       "    }\n",
       "\n",
       "    .dataframe tbody tr th {\n",
       "        vertical-align: top;\n",
       "    }\n",
       "\n",
       "    .dataframe thead th {\n",
       "        text-align: right;\n",
       "    }\n",
       "</style>\n",
       "<table border=\"1\" class=\"dataframe\">\n",
       "  <thead>\n",
       "    <tr style=\"text-align: right;\">\n",
       "      <th></th>\n",
       "      <th>sexo</th>\n",
       "      <th>edad</th>\n",
       "      <th>fumador</th>\n",
       "      <th>cigarrillos_por_dia</th>\n",
       "      <th>uso_medicamento_presion</th>\n",
       "      <th>acv</th>\n",
       "      <th>hipertension</th>\n",
       "      <th>diabetes</th>\n",
       "      <th>colesterol_total</th>\n",
       "      <th>presion_arterial_sistolica</th>\n",
       "      <th>presion_arterial_diastolica</th>\n",
       "      <th>imc</th>\n",
       "      <th>frecuencia_cardiaca</th>\n",
       "      <th>glicemia</th>\n",
       "      <th>categoria_de_fumador</th>\n",
       "    </tr>\n",
       "  </thead>\n",
       "  <tbody>\n",
       "    <tr>\n",
       "      <th>4782</th>\n",
       "      <td>1</td>\n",
       "      <td>49</td>\n",
       "      <td>1</td>\n",
       "      <td>20</td>\n",
       "      <td>0</td>\n",
       "      <td>0</td>\n",
       "      <td>1</td>\n",
       "      <td>0</td>\n",
       "      <td>193.0</td>\n",
       "      <td>172.0</td>\n",
       "      <td>105.0</td>\n",
       "      <td>19.70</td>\n",
       "      <td>90.0</td>\n",
       "      <td>77.0</td>\n",
       "      <td>2</td>\n",
       "    </tr>\n",
       "    <tr>\n",
       "      <th>208</th>\n",
       "      <td>0</td>\n",
       "      <td>43</td>\n",
       "      <td>0</td>\n",
       "      <td>0</td>\n",
       "      <td>0</td>\n",
       "      <td>0</td>\n",
       "      <td>0</td>\n",
       "      <td>0</td>\n",
       "      <td>263.0</td>\n",
       "      <td>115.0</td>\n",
       "      <td>82.5</td>\n",
       "      <td>25.91</td>\n",
       "      <td>105.0</td>\n",
       "      <td>81.8</td>\n",
       "      <td>0</td>\n",
       "    </tr>\n",
       "    <tr>\n",
       "      <th>1373</th>\n",
       "      <td>1</td>\n",
       "      <td>42</td>\n",
       "      <td>1</td>\n",
       "      <td>20</td>\n",
       "      <td>0</td>\n",
       "      <td>0</td>\n",
       "      <td>0</td>\n",
       "      <td>0</td>\n",
       "      <td>231.0</td>\n",
       "      <td>123.0</td>\n",
       "      <td>87.0</td>\n",
       "      <td>21.48</td>\n",
       "      <td>75.0</td>\n",
       "      <td>44.0</td>\n",
       "      <td>2</td>\n",
       "    </tr>\n",
       "    <tr>\n",
       "      <th>6816</th>\n",
       "      <td>1</td>\n",
       "      <td>52</td>\n",
       "      <td>1</td>\n",
       "      <td>25</td>\n",
       "      <td>0</td>\n",
       "      <td>0</td>\n",
       "      <td>1</td>\n",
       "      <td>0</td>\n",
       "      <td>206.0</td>\n",
       "      <td>173.0</td>\n",
       "      <td>117.0</td>\n",
       "      <td>29.63</td>\n",
       "      <td>75.0</td>\n",
       "      <td>77.0</td>\n",
       "      <td>3</td>\n",
       "    </tr>\n",
       "    <tr>\n",
       "      <th>3357</th>\n",
       "      <td>1</td>\n",
       "      <td>45</td>\n",
       "      <td>1</td>\n",
       "      <td>20</td>\n",
       "      <td>0</td>\n",
       "      <td>0</td>\n",
       "      <td>0</td>\n",
       "      <td>0</td>\n",
       "      <td>200.0</td>\n",
       "      <td>113.0</td>\n",
       "      <td>75.5</td>\n",
       "      <td>21.51</td>\n",
       "      <td>88.0</td>\n",
       "      <td>72.0</td>\n",
       "      <td>2</td>\n",
       "    </tr>\n",
       "    <tr>\n",
       "      <th>...</th>\n",
       "      <td>...</td>\n",
       "      <td>...</td>\n",
       "      <td>...</td>\n",
       "      <td>...</td>\n",
       "      <td>...</td>\n",
       "      <td>...</td>\n",
       "      <td>...</td>\n",
       "      <td>...</td>\n",
       "      <td>...</td>\n",
       "      <td>...</td>\n",
       "      <td>...</td>\n",
       "      <td>...</td>\n",
       "      <td>...</td>\n",
       "      <td>...</td>\n",
       "      <td>...</td>\n",
       "    </tr>\n",
       "    <tr>\n",
       "      <th>3772</th>\n",
       "      <td>1</td>\n",
       "      <td>43</td>\n",
       "      <td>1</td>\n",
       "      <td>20</td>\n",
       "      <td>0</td>\n",
       "      <td>0</td>\n",
       "      <td>0</td>\n",
       "      <td>0</td>\n",
       "      <td>184.0</td>\n",
       "      <td>127.5</td>\n",
       "      <td>81.0</td>\n",
       "      <td>28.31</td>\n",
       "      <td>108.0</td>\n",
       "      <td>75.0</td>\n",
       "      <td>2</td>\n",
       "    </tr>\n",
       "    <tr>\n",
       "      <th>5191</th>\n",
       "      <td>1</td>\n",
       "      <td>52</td>\n",
       "      <td>1</td>\n",
       "      <td>20</td>\n",
       "      <td>0</td>\n",
       "      <td>0</td>\n",
       "      <td>0</td>\n",
       "      <td>0</td>\n",
       "      <td>225.0</td>\n",
       "      <td>126.0</td>\n",
       "      <td>75.0</td>\n",
       "      <td>22.18</td>\n",
       "      <td>85.0</td>\n",
       "      <td>100.0</td>\n",
       "      <td>2</td>\n",
       "    </tr>\n",
       "    <tr>\n",
       "      <th>5226</th>\n",
       "      <td>0</td>\n",
       "      <td>60</td>\n",
       "      <td>0</td>\n",
       "      <td>0</td>\n",
       "      <td>0</td>\n",
       "      <td>0</td>\n",
       "      <td>1</td>\n",
       "      <td>0</td>\n",
       "      <td>334.0</td>\n",
       "      <td>132.0</td>\n",
       "      <td>94.0</td>\n",
       "      <td>25.38</td>\n",
       "      <td>80.0</td>\n",
       "      <td>98.0</td>\n",
       "      <td>0</td>\n",
       "    </tr>\n",
       "    <tr>\n",
       "      <th>5390</th>\n",
       "      <td>1</td>\n",
       "      <td>54</td>\n",
       "      <td>1</td>\n",
       "      <td>43</td>\n",
       "      <td>0</td>\n",
       "      <td>0</td>\n",
       "      <td>0</td>\n",
       "      <td>0</td>\n",
       "      <td>243.0</td>\n",
       "      <td>135.0</td>\n",
       "      <td>92.0</td>\n",
       "      <td>31.30</td>\n",
       "      <td>90.0</td>\n",
       "      <td>65.0</td>\n",
       "      <td>3</td>\n",
       "    </tr>\n",
       "    <tr>\n",
       "      <th>860</th>\n",
       "      <td>1</td>\n",
       "      <td>37</td>\n",
       "      <td>0</td>\n",
       "      <td>0</td>\n",
       "      <td>0</td>\n",
       "      <td>0</td>\n",
       "      <td>0</td>\n",
       "      <td>0</td>\n",
       "      <td>238.0</td>\n",
       "      <td>121.0</td>\n",
       "      <td>80.0</td>\n",
       "      <td>28.95</td>\n",
       "      <td>70.0</td>\n",
       "      <td>67.0</td>\n",
       "      <td>0</td>\n",
       "    </tr>\n",
       "  </tbody>\n",
       "</table>\n",
       "<p>6258 rows × 15 columns</p>\n",
       "</div>"
      ],
      "text/plain": [
       "      sexo  edad  fumador  cigarrillos_por_dia  uso_medicamento_presion  acv  \\\n",
       "4782     1    49        1                   20                        0    0   \n",
       "208      0    43        0                    0                        0    0   \n",
       "1373     1    42        1                   20                        0    0   \n",
       "6816     1    52        1                   25                        0    0   \n",
       "3357     1    45        1                   20                        0    0   \n",
       "...    ...   ...      ...                  ...                      ...  ...   \n",
       "3772     1    43        1                   20                        0    0   \n",
       "5191     1    52        1                   20                        0    0   \n",
       "5226     0    60        0                    0                        0    0   \n",
       "5390     1    54        1                   43                        0    0   \n",
       "860      1    37        0                    0                        0    0   \n",
       "\n",
       "      hipertension  diabetes  colesterol_total  presion_arterial_sistolica  \\\n",
       "4782             1         0             193.0                       172.0   \n",
       "208              0         0             263.0                       115.0   \n",
       "1373             0         0             231.0                       123.0   \n",
       "6816             1         0             206.0                       173.0   \n",
       "3357             0         0             200.0                       113.0   \n",
       "...            ...       ...               ...                         ...   \n",
       "3772             0         0             184.0                       127.5   \n",
       "5191             0         0             225.0                       126.0   \n",
       "5226             1         0             334.0                       132.0   \n",
       "5390             0         0             243.0                       135.0   \n",
       "860              0         0             238.0                       121.0   \n",
       "\n",
       "      presion_arterial_diastolica    imc  frecuencia_cardiaca  glicemia  \\\n",
       "4782                        105.0  19.70                 90.0      77.0   \n",
       "208                          82.5  25.91                105.0      81.8   \n",
       "1373                         87.0  21.48                 75.0      44.0   \n",
       "6816                        117.0  29.63                 75.0      77.0   \n",
       "3357                         75.5  21.51                 88.0      72.0   \n",
       "...                           ...    ...                  ...       ...   \n",
       "3772                         81.0  28.31                108.0      75.0   \n",
       "5191                         75.0  22.18                 85.0     100.0   \n",
       "5226                         94.0  25.38                 80.0      98.0   \n",
       "5390                         92.0  31.30                 90.0      65.0   \n",
       "860                          80.0  28.95                 70.0      67.0   \n",
       "\n",
       "      categoria_de_fumador  \n",
       "4782                     2  \n",
       "208                      0  \n",
       "1373                     2  \n",
       "6816                     3  \n",
       "3357                     2  \n",
       "...                    ...  \n",
       "3772                     2  \n",
       "5191                     2  \n",
       "5226                     0  \n",
       "5390                     3  \n",
       "860                      0  \n",
       "\n",
       "[6258 rows x 15 columns]"
      ]
     },
     "execution_count": 13,
     "metadata": {},
     "output_type": "execute_result"
    }
   ],
   "source": [
    "train.X"
   ]
  },
  {
   "cell_type": "code",
   "execution_count": 14,
   "id": "64b074a4",
   "metadata": {},
   "outputs": [
    {
     "data": {
      "text/html": [
       "<div>\n",
       "<style scoped>\n",
       "    .dataframe tbody tr th:only-of-type {\n",
       "        vertical-align: middle;\n",
       "    }\n",
       "\n",
       "    .dataframe tbody tr th {\n",
       "        vertical-align: top;\n",
       "    }\n",
       "\n",
       "    .dataframe thead th {\n",
       "        text-align: right;\n",
       "    }\n",
       "</style>\n",
       "<table border=\"1\" class=\"dataframe\">\n",
       "  <thead>\n",
       "    <tr style=\"text-align: right;\">\n",
       "      <th></th>\n",
       "      <th>sexo</th>\n",
       "      <th>edad</th>\n",
       "      <th>fumador</th>\n",
       "      <th>cigarrillos_por_dia</th>\n",
       "      <th>uso_medicamento_presion</th>\n",
       "      <th>acv</th>\n",
       "      <th>hipertension</th>\n",
       "      <th>diabetes</th>\n",
       "      <th>colesterol_total</th>\n",
       "      <th>presion_arterial_sistolica</th>\n",
       "      <th>presion_arterial_diastolica</th>\n",
       "      <th>imc</th>\n",
       "      <th>frecuencia_cardiaca</th>\n",
       "      <th>glicemia</th>\n",
       "      <th>categoria_de_fumador</th>\n",
       "    </tr>\n",
       "  </thead>\n",
       "  <tbody>\n",
       "    <tr>\n",
       "      <th>5487</th>\n",
       "      <td>1</td>\n",
       "      <td>61</td>\n",
       "      <td>1</td>\n",
       "      <td>15</td>\n",
       "      <td>0</td>\n",
       "      <td>0</td>\n",
       "      <td>0</td>\n",
       "      <td>0</td>\n",
       "      <td>204.0</td>\n",
       "      <td>120.0</td>\n",
       "      <td>80.0</td>\n",
       "      <td>25.71</td>\n",
       "      <td>80.0</td>\n",
       "      <td>83.0</td>\n",
       "      <td>2</td>\n",
       "    </tr>\n",
       "    <tr>\n",
       "      <th>5489</th>\n",
       "      <td>0</td>\n",
       "      <td>50</td>\n",
       "      <td>0</td>\n",
       "      <td>0</td>\n",
       "      <td>0</td>\n",
       "      <td>0</td>\n",
       "      <td>1</td>\n",
       "      <td>0</td>\n",
       "      <td>236.0</td>\n",
       "      <td>152.0</td>\n",
       "      <td>92.0</td>\n",
       "      <td>24.47</td>\n",
       "      <td>120.0</td>\n",
       "      <td>67.0</td>\n",
       "      <td>0</td>\n",
       "    </tr>\n",
       "    <tr>\n",
       "      <th>2133</th>\n",
       "      <td>1</td>\n",
       "      <td>42</td>\n",
       "      <td>1</td>\n",
       "      <td>20</td>\n",
       "      <td>0</td>\n",
       "      <td>0</td>\n",
       "      <td>0</td>\n",
       "      <td>0</td>\n",
       "      <td>182.0</td>\n",
       "      <td>120.0</td>\n",
       "      <td>83.0</td>\n",
       "      <td>27.26</td>\n",
       "      <td>85.0</td>\n",
       "      <td>87.0</td>\n",
       "      <td>2</td>\n",
       "    </tr>\n",
       "    <tr>\n",
       "      <th>37</th>\n",
       "      <td>1</td>\n",
       "      <td>52</td>\n",
       "      <td>0</td>\n",
       "      <td>0</td>\n",
       "      <td>0</td>\n",
       "      <td>0</td>\n",
       "      <td>1</td>\n",
       "      <td>1</td>\n",
       "      <td>178.0</td>\n",
       "      <td>160.0</td>\n",
       "      <td>98.0</td>\n",
       "      <td>40.11</td>\n",
       "      <td>75.0</td>\n",
       "      <td>225.0</td>\n",
       "      <td>0</td>\n",
       "    </tr>\n",
       "    <tr>\n",
       "      <th>2063</th>\n",
       "      <td>1</td>\n",
       "      <td>42</td>\n",
       "      <td>0</td>\n",
       "      <td>0</td>\n",
       "      <td>0</td>\n",
       "      <td>0</td>\n",
       "      <td>0</td>\n",
       "      <td>0</td>\n",
       "      <td>258.0</td>\n",
       "      <td>110.0</td>\n",
       "      <td>69.0</td>\n",
       "      <td>26.25</td>\n",
       "      <td>60.0</td>\n",
       "      <td>73.0</td>\n",
       "      <td>0</td>\n",
       "    </tr>\n",
       "    <tr>\n",
       "      <th>...</th>\n",
       "      <td>...</td>\n",
       "      <td>...</td>\n",
       "      <td>...</td>\n",
       "      <td>...</td>\n",
       "      <td>...</td>\n",
       "      <td>...</td>\n",
       "      <td>...</td>\n",
       "      <td>...</td>\n",
       "      <td>...</td>\n",
       "      <td>...</td>\n",
       "      <td>...</td>\n",
       "      <td>...</td>\n",
       "      <td>...</td>\n",
       "      <td>...</td>\n",
       "      <td>...</td>\n",
       "    </tr>\n",
       "    <tr>\n",
       "      <th>5861</th>\n",
       "      <td>1</td>\n",
       "      <td>62</td>\n",
       "      <td>0</td>\n",
       "      <td>0</td>\n",
       "      <td>0</td>\n",
       "      <td>0</td>\n",
       "      <td>1</td>\n",
       "      <td>0</td>\n",
       "      <td>208.0</td>\n",
       "      <td>144.0</td>\n",
       "      <td>80.0</td>\n",
       "      <td>31.42</td>\n",
       "      <td>75.0</td>\n",
       "      <td>66.0</td>\n",
       "      <td>0</td>\n",
       "    </tr>\n",
       "    <tr>\n",
       "      <th>5465</th>\n",
       "      <td>1</td>\n",
       "      <td>67</td>\n",
       "      <td>1</td>\n",
       "      <td>15</td>\n",
       "      <td>0</td>\n",
       "      <td>1</td>\n",
       "      <td>1</td>\n",
       "      <td>0</td>\n",
       "      <td>285.0</td>\n",
       "      <td>155.0</td>\n",
       "      <td>90.0</td>\n",
       "      <td>30.42</td>\n",
       "      <td>70.0</td>\n",
       "      <td>77.0</td>\n",
       "      <td>2</td>\n",
       "    </tr>\n",
       "    <tr>\n",
       "      <th>2509</th>\n",
       "      <td>0</td>\n",
       "      <td>57</td>\n",
       "      <td>0</td>\n",
       "      <td>0</td>\n",
       "      <td>0</td>\n",
       "      <td>0</td>\n",
       "      <td>1</td>\n",
       "      <td>0</td>\n",
       "      <td>382.0</td>\n",
       "      <td>133.0</td>\n",
       "      <td>77.0</td>\n",
       "      <td>24.27</td>\n",
       "      <td>75.0</td>\n",
       "      <td>81.0</td>\n",
       "      <td>0</td>\n",
       "    </tr>\n",
       "    <tr>\n",
       "      <th>6261</th>\n",
       "      <td>1</td>\n",
       "      <td>56</td>\n",
       "      <td>1</td>\n",
       "      <td>20</td>\n",
       "      <td>0</td>\n",
       "      <td>0</td>\n",
       "      <td>1</td>\n",
       "      <td>0</td>\n",
       "      <td>205.0</td>\n",
       "      <td>210.0</td>\n",
       "      <td>130.0</td>\n",
       "      <td>25.49</td>\n",
       "      <td>95.0</td>\n",
       "      <td>127.0</td>\n",
       "      <td>2</td>\n",
       "    </tr>\n",
       "    <tr>\n",
       "      <th>4240</th>\n",
       "      <td>1</td>\n",
       "      <td>46</td>\n",
       "      <td>1</td>\n",
       "      <td>30</td>\n",
       "      <td>0</td>\n",
       "      <td>0</td>\n",
       "      <td>1</td>\n",
       "      <td>0</td>\n",
       "      <td>187.0</td>\n",
       "      <td>140.0</td>\n",
       "      <td>94.0</td>\n",
       "      <td>24.30</td>\n",
       "      <td>100.0</td>\n",
       "      <td>67.0</td>\n",
       "      <td>3</td>\n",
       "    </tr>\n",
       "  </tbody>\n",
       "</table>\n",
       "<p>696 rows × 15 columns</p>\n",
       "</div>"
      ],
      "text/plain": [
       "      sexo  edad  fumador  cigarrillos_por_dia  uso_medicamento_presion  acv  \\\n",
       "5487     1    61        1                   15                        0    0   \n",
       "5489     0    50        0                    0                        0    0   \n",
       "2133     1    42        1                   20                        0    0   \n",
       "37       1    52        0                    0                        0    0   \n",
       "2063     1    42        0                    0                        0    0   \n",
       "...    ...   ...      ...                  ...                      ...  ...   \n",
       "5861     1    62        0                    0                        0    0   \n",
       "5465     1    67        1                   15                        0    1   \n",
       "2509     0    57        0                    0                        0    0   \n",
       "6261     1    56        1                   20                        0    0   \n",
       "4240     1    46        1                   30                        0    0   \n",
       "\n",
       "      hipertension  diabetes  colesterol_total  presion_arterial_sistolica  \\\n",
       "5487             0         0             204.0                       120.0   \n",
       "5489             1         0             236.0                       152.0   \n",
       "2133             0         0             182.0                       120.0   \n",
       "37               1         1             178.0                       160.0   \n",
       "2063             0         0             258.0                       110.0   \n",
       "...            ...       ...               ...                         ...   \n",
       "5861             1         0             208.0                       144.0   \n",
       "5465             1         0             285.0                       155.0   \n",
       "2509             1         0             382.0                       133.0   \n",
       "6261             1         0             205.0                       210.0   \n",
       "4240             1         0             187.0                       140.0   \n",
       "\n",
       "      presion_arterial_diastolica    imc  frecuencia_cardiaca  glicemia  \\\n",
       "5487                         80.0  25.71                 80.0      83.0   \n",
       "5489                         92.0  24.47                120.0      67.0   \n",
       "2133                         83.0  27.26                 85.0      87.0   \n",
       "37                           98.0  40.11                 75.0     225.0   \n",
       "2063                         69.0  26.25                 60.0      73.0   \n",
       "...                           ...    ...                  ...       ...   \n",
       "5861                         80.0  31.42                 75.0      66.0   \n",
       "5465                         90.0  30.42                 70.0      77.0   \n",
       "2509                         77.0  24.27                 75.0      81.0   \n",
       "6261                        130.0  25.49                 95.0     127.0   \n",
       "4240                         94.0  24.30                100.0      67.0   \n",
       "\n",
       "      categoria_de_fumador  \n",
       "5487                     2  \n",
       "5489                     0  \n",
       "2133                     2  \n",
       "37                       0  \n",
       "2063                     0  \n",
       "...                    ...  \n",
       "5861                     0  \n",
       "5465                     2  \n",
       "2509                     0  \n",
       "6261                     2  \n",
       "4240                     3  \n",
       "\n",
       "[696 rows x 15 columns]"
      ]
     },
     "execution_count": 14,
     "metadata": {},
     "output_type": "execute_result"
    }
   ],
   "source": [
    "test.X"
   ]
  },
  {
   "cell_type": "code",
   "execution_count": 15,
   "id": "f4e67944",
   "metadata": {},
   "outputs": [
    {
     "data": {
      "text/plain": [
       "4782    1\n",
       "208     0\n",
       "1373    0\n",
       "6816    1\n",
       "3357    0\n",
       "       ..\n",
       "3772    0\n",
       "5191    1\n",
       "5226    1\n",
       "5390    1\n",
       "860     0\n",
       "Name: riesgo_eac_decada, Length: 6258, dtype: int64"
      ]
     },
     "execution_count": 15,
     "metadata": {},
     "output_type": "execute_result"
    }
   ],
   "source": [
    "train.y"
   ]
  },
  {
   "cell_type": "code",
   "execution_count": 16,
   "id": "b888392c",
   "metadata": {},
   "outputs": [
    {
     "data": {
      "text/plain": [
       "5487    1\n",
       "5489    1\n",
       "2133    0\n",
       "37      0\n",
       "2063    0\n",
       "       ..\n",
       "5861    1\n",
       "5465    1\n",
       "2509    0\n",
       "6261    1\n",
       "4240    1\n",
       "Name: riesgo_eac_decada, Length: 696, dtype: int64"
      ]
     },
     "execution_count": 16,
     "metadata": {},
     "output_type": "execute_result"
    }
   ],
   "source": [
    "test.y"
   ]
  },
  {
   "cell_type": "code",
   "execution_count": 17,
   "id": "59c41811",
   "metadata": {},
   "outputs": [],
   "source": [
    "from sklearn.tree import DecisionTreeClassifier"
   ]
  },
  {
   "cell_type": "code",
   "execution_count": 18,
   "id": "cb5699e6",
   "metadata": {},
   "outputs": [],
   "source": [
    "primer_modelo = DecisionTreeClassifier()"
   ]
  },
  {
   "cell_type": "code",
   "execution_count": 19,
   "id": "5bd240d5",
   "metadata": {},
   "outputs": [
    {
     "data": {
      "text/plain": [
       "DecisionTreeClassifier()"
      ]
     },
     "execution_count": 19,
     "metadata": {},
     "output_type": "execute_result"
    }
   ],
   "source": [
    "primer_modelo.fit(train.X, train.y)"
   ]
  },
  {
   "cell_type": "code",
   "execution_count": 20,
   "id": "88e92f76",
   "metadata": {},
   "outputs": [
    {
     "data": {
      "text/plain": [
       "0.9037356321839081"
      ]
     },
     "execution_count": 20,
     "metadata": {},
     "output_type": "execute_result"
    }
   ],
   "source": [
    "primer_modelo.score(test.X, test.y)"
   ]
  },
  {
   "cell_type": "code",
   "execution_count": 21,
   "id": "45aa1ae0",
   "metadata": {},
   "outputs": [],
   "source": [
    "from sklearn.metrics import ConfusionMatrixDisplay"
   ]
  },
  {
   "cell_type": "code",
   "execution_count": 22,
   "id": "92347d2a",
   "metadata": {},
   "outputs": [
    {
     "data": {
      "image/png": "[encoded data removed]",
      "text/plain": [
       "<Figure size 864x576 with 2 Axes>"
      ]
     },
     "metadata": {},
     "output_type": "display_data"
    }
   ],
   "source": [
    "matriz = ConfusionMatrixDisplay.from_estimator(estimator=primer_modelo, X= test.X, y= test.y)"
   ]
  },
  {
   "cell_type": "markdown",
   "id": "b75b19aa",
   "metadata": {},
   "source": [
    "### 1.5 Mejorando el primer modelo"
   ]
  },
  {
   "cell_type": "code",
   "execution_count": 23,
   "id": "c4aa3ee1",
   "metadata": {},
   "outputs": [],
   "source": [
    "modelo_profundo = DecisionTreeClassifier(max_depth=100)"
   ]
  },
  {
   "cell_type": "code",
   "execution_count": 24,
   "id": "7d7bae0e",
   "metadata": {},
   "outputs": [
    {
     "data": {
      "text/plain": [
       "DecisionTreeClassifier(max_depth=100)"
      ]
     },
     "execution_count": 24,
     "metadata": {},
     "output_type": "execute_result"
    }
   ],
   "source": [
    "modelo_profundo.fit(train.X, train.y)"
   ]
  },
  {
   "cell_type": "code",
   "execution_count": 25,
   "id": "66d7727c",
   "metadata": {},
   "outputs": [
    {
     "data": {
      "text/plain": [
       "0.9037356321839081"
      ]
     },
     "execution_count": 25,
     "metadata": {},
     "output_type": "execute_result"
    }
   ],
   "source": [
    "modelo_profundo.score(test.X,test.y)"
   ]
  },
  {
   "cell_type": "code",
   "execution_count": 26,
   "id": "eec6b478",
   "metadata": {},
   "outputs": [
    {
     "data": {
      "image/png": "[encoded data removed]",
      "text/plain": [
       "<Figure size 864x576 with 2 Axes>"
      ]
     },
     "metadata": {},
     "output_type": "display_data"
    }
   ],
   "source": [
    "matriz = ConfusionMatrixDisplay.from_estimator(estimator=modelo_profundo, X= test.X, y= test.y)"
   ]
  },
  {
   "cell_type": "markdown",
   "id": "694d2939",
   "metadata": {},
   "source": [
    "### 1.6 Selección de Features"
   ]
  },
  {
   "cell_type": "code",
   "execution_count": 27,
   "id": "c4b02b07",
   "metadata": {},
   "outputs": [
    {
     "data": {
      "text/plain": [
       "array([0.01853897, 0.17957426, 0.00295501, 0.05574134, 0.00436476,\n",
       "       0.00360557, 0.01087495, 0.00112619, 0.13213862, 0.13855885,\n",
       "       0.10833617, 0.14218719, 0.08551006, 0.11211416, 0.0043739 ])"
      ]
     },
     "execution_count": 27,
     "metadata": {},
     "output_type": "execute_result"
    }
   ],
   "source": [
    "atributos = primer_modelo.feature_importances_\n",
    "atributos"
   ]
  },
  {
   "cell_type": "code",
   "execution_count": 28,
   "id": "3bbc08da",
   "metadata": {},
   "outputs": [
    {
     "data": {
      "text/plain": [
       "diabetes                       0.001126\n",
       "fumador                        0.002955\n",
       "acv                            0.003606\n",
       "uso_medicamento_presion        0.004365\n",
       "categoria_de_fumador           0.004374\n",
       "hipertension                   0.010875\n",
       "sexo                           0.018539\n",
       "cigarrillos_por_dia            0.055741\n",
       "frecuencia_cardiaca            0.085510\n",
       "presion_arterial_diastolica    0.108336\n",
       "glicemia                       0.112114\n",
       "colesterol_total               0.132139\n",
       "presion_arterial_sistolica     0.138559\n",
       "imc                            0.142187\n",
       "edad                           0.179574\n",
       "dtype: float64"
      ]
     },
     "execution_count": 28,
     "metadata": {},
     "output_type": "execute_result"
    }
   ],
   "source": [
    "import pandas as pd\n",
    "\n",
    "pd.Series(atributos, index= train.X.columns).sort_values()"
   ]
  },
  {
   "cell_type": "code",
   "execution_count": 29,
   "id": "4ea1eb0c",
   "metadata": {},
   "outputs": [],
   "source": [
    "train.X.drop(columns='diabetes', axis=1, inplace=True)"
   ]
  },
  {
   "cell_type": "code",
   "execution_count": 30,
   "id": "b0b998bd",
   "metadata": {},
   "outputs": [],
   "source": [
    "test.X.drop(columns='diabetes', axis=1, inplace=True)"
   ]
  },
  {
   "cell_type": "code",
   "execution_count": 31,
   "id": "6e8b7d34",
   "metadata": {},
   "outputs": [
    {
     "data": {
      "text/plain": [
       "Index(['sexo', 'edad', 'fumador', 'cigarrillos_por_dia',\n",
       "       'uso_medicamento_presion', 'acv', 'hipertension', 'colesterol_total',\n",
       "       'presion_arterial_sistolica', 'presion_arterial_diastolica', 'imc',\n",
       "       'frecuencia_cardiaca', 'glicemia', 'categoria_de_fumador'],\n",
       "      dtype='object')"
      ]
     },
     "execution_count": 31,
     "metadata": {},
     "output_type": "execute_result"
    }
   ],
   "source": [
    "train.X.columns"
   ]
  },
  {
   "cell_type": "code",
   "execution_count": 32,
   "id": "badabd1d",
   "metadata": {},
   "outputs": [
    {
     "data": {
      "text/plain": [
       "Index(['sexo', 'edad', 'fumador', 'cigarrillos_por_dia',\n",
       "       'uso_medicamento_presion', 'acv', 'hipertension', 'colesterol_total',\n",
       "       'presion_arterial_sistolica', 'presion_arterial_diastolica', 'imc',\n",
       "       'frecuencia_cardiaca', 'glicemia', 'categoria_de_fumador'],\n",
       "      dtype='object')"
      ]
     },
     "execution_count": 32,
     "metadata": {},
     "output_type": "execute_result"
    }
   ],
   "source": [
    "train.X.columns"
   ]
  },
  {
   "cell_type": "code",
   "execution_count": 33,
   "id": "f60bda5b",
   "metadata": {},
   "outputs": [
    {
     "data": {
      "text/plain": [
       "DecisionTreeClassifier()"
      ]
     },
     "execution_count": 33,
     "metadata": {},
     "output_type": "execute_result"
    }
   ],
   "source": [
    "primer_modelo.fit(train.X, train.y)"
   ]
  },
  {
   "cell_type": "code",
   "execution_count": 34,
   "id": "b7f28ddb",
   "metadata": {},
   "outputs": [
    {
     "data": {
      "text/plain": [
       "0.9066091954022989"
      ]
     },
     "execution_count": 34,
     "metadata": {},
     "output_type": "execute_result"
    }
   ],
   "source": [
    "primer_modelo.score(test.X, test.y)"
   ]
  },
  {
   "cell_type": "code",
   "execution_count": 35,
   "id": "efaf2917",
   "metadata": {},
   "outputs": [
    {
     "data": {
      "image/png": "[encoded data removed]",
      "text/plain": [
       "<Figure size 864x576 with 2 Axes>"
      ]
     },
     "metadata": {},
     "output_type": "display_data"
    }
   ],
   "source": [
    "matriz = ConfusionMatrixDisplay.from_estimator(estimator=primer_modelo, X= test.X, y= test.y)"
   ]
  },
  {
   "cell_type": "markdown",
   "id": "90a687a8",
   "metadata": {},
   "source": [
    "### 2.1 Explorando AutoML de Oracle "
   ]
  },
  {
   "cell_type": "code",
   "execution_count": 36,
   "id": "de8292b3",
   "metadata": {},
   "outputs": [],
   "source": [
    "from ads.common.data import ADSData"
   ]
  },
  {
   "cell_type": "code",
   "execution_count": 37,
   "id": "184be9b7",
   "metadata": {},
   "outputs": [
    {
     "data": {
      "text/plain": [
       "ads.common.data.ADSData"
      ]
     },
     "execution_count": 37,
     "metadata": {},
     "output_type": "execute_result"
    }
   ],
   "source": [
    "ads_data = ADSData.build(ds.to_pandas(),'riesgo_eac_decada')\n",
    "type(ads_data)"
   ]
  },
  {
   "cell_type": "code",
   "execution_count": 38,
   "id": "100ea732",
   "metadata": {},
   "outputs": [],
   "source": [
    "from ads.automl.driver import AutoML"
   ]
  },
  {
   "cell_type": "code",
   "execution_count": 39,
   "id": "4d4fb15e",
   "metadata": {},
   "outputs": [
    {
     "name": "stdout",
     "output_type": "stream",
     "text": [
      "WARNING:ads.automl.provider.xengine:Local ProcessPool execution (n_jobs=2)\n"
     ]
    }
   ],
   "source": [
    "oracle_automl = AutoML(ads_data)"
   ]
  },
  {
   "cell_type": "code",
   "execution_count": 40,
   "id": "c9004256",
   "metadata": {},
   "outputs": [
    {
     "name": "stdout",
     "output_type": "stream",
     "text": [
      "WARNING:ads.automl.provider.pipeline:Random state (7) is used for model builds\n",
      "WARNING:ads.automl.provider.pipeline:Dataset shape: (6954, 15)\n",
      "WARNING:ads.automl.provider.pipeline:Running Auto-Preprocessing\n",
      "WARNING:ads.automl.provider.pipeline:Preprocessing completed. Updated Dataset shape: (6954, 15), cv: 5\n",
      "WARNING:ads.automl.provider.pipeline:Running Model Selection\n",
      "WARNING:ads.automl.provider.pipeline:Model Selection completed. Selected model: ['RandomForestClassifier']\n",
      "WARNING:ads.automl.provider.pipeline:Running Adaptive Sampling. Dataset Shape: (6954, 15), Valid Shape: None, CV: 5, Class counts: [3477 3477]\n",
      "WARNING:ads.automl.provider.pipeline:Adaptive Sampling Completed. Updated Dataset Shape: (6954, 15), Valid Shape: None, CV: [(3426, 1391), (3426, 1391), (3426, 1391), (3426, 1391), (3426, 1390)], Class counts: [3477 3477]\n",
      "WARNING:ads.automl.provider.pipeline:Starting Feature Selection 0. Dataset Shape: (6954, 15)\n",
      "WARNING:ads.automl.provider.xengine:Time budget exceeded by 2.51s, resetting XEngine\n",
      "WARNING:ads.automl.provider.xengine:Timebudget Exceeded or Timedout completed 87/175, 0 tasks timedout\n",
      "WARNING:ads.automl.provider.pipeline:Feature Selection 0 completed. Updated Dataset shape: (6954, 15)\n",
      "WARNING:ads.automl.provider.pipeline:Timebudget exhausted. Skipping Hyperparameter Optimization for RandomForestClassifier\n",
      "WARNING:ads.automl.provider.pipeline:(Re)fitting Pipeline\n",
      "WARNING:ads.automl.provider.pipeline:Running Auto-Preprocessing\n",
      "WARNING:ads.automl.provider.pipeline:Preprocessing completed. Updated Dataset shape: (6954, 15), cv: auto\n",
      "INFO:xengine:All work stopped\n",
      "INFO:xengine:All work stopped\n",
      "WARNING:ads.automl.provider.xengine:Local ProcessPool execution (n_jobs=2)\n",
      "WARNING:ads.automl.provider.pipeline:AutoML completed. Time taken - 155.321 sec\n",
      "ERROR:ads.common:Unfortunately, there were no trials found, so we cannot visualize it.\n"
     ]
    }
   ],
   "source": [
    "modelo_automl, baseline = oracle_automl.train(score_metric='accuracy', model_list=['DecisionTreeClassifier',\n",
    "                                                                                  'SVC', 'LogisticRegression',\n",
    "                                                                                  'RandomForestClassifier'],\n",
    "                                             time_budget=150)"
   ]
  },
  {
   "cell_type": "code",
   "execution_count": 41,
   "id": "58951a7f",
   "metadata": {},
   "outputs": [
    {
     "data": {
      "text/html": [
       "<table border=\"1\" class=\"dataframe\">\n",
       "  <thead>\n",
       "    <tr style=\"text-align: right;\">\n",
       "      <th>Algorithm</th>\n",
       "      <th>#Samples</th>\n",
       "      <th>#Features</th>\n",
       "      <th>Mean Validation Score</th>\n",
       "      <th>Hyperparameters</th>\n",
       "      <th>CPU Time</th>\n",
       "      <th>Memory Usage (GB)</th>\n",
       "    </tr>\n",
       "  </thead>\n",
       "  <tbody>\n",
       "    <tr>\n",
       "      <td>RandomForestClassifier_AS</td>\n",
       "      <td>5000</td>\n",
       "      <td>15</td>\n",
       "      <td>0.9265</td>\n",
       "      <td>{'n_estimators': 100, 'class_weight': 'balanced', 'max_features': 0.777777778, 'min_samples_leaf': 0.000625, 'min_samples_split': 0.00125}</td>\n",
       "      <td>16.8261</td>\n",
       "      <td>4.6654e-03</td>\n",
       "    </tr>\n",
       "    <tr>\n",
       "      <td>RandomForestClassifier_ADS</td>\n",
       "      <td>3012</td>\n",
       "      <td>15</td>\n",
       "      <td>0.8865</td>\n",
       "      <td>{'bootstrap': True, 'ccp_alpha': 0.0, 'class_weight': 'balanced', 'criterion': 'gini', 'max_depth': None, 'max_features': 0.777777778, 'max_leaf_nodes': None, 'max_samples': None, 'min_impurity_decrease': 0.0, 'min_samples_leaf': 0.000625, 'min_samples_split': 0.00125, 'min_weight_fraction_leaf': 0.0, 'n_estimators': 100, 'n_jobs': 1, 'oob_score': False, 'random_state': 7, 'verbose': 0, 'warm_start': False}</td>\n",
       "      <td>8.3124</td>\n",
       "      <td>0.0000e+00</td>\n",
       "    </tr>\n",
       "    <tr>\n",
       "      <td>RandomForestClassifier_ADS</td>\n",
       "      <td>3426</td>\n",
       "      <td>15</td>\n",
       "      <td>0.8847</td>\n",
       "      <td>{'bootstrap': True, 'ccp_alpha': 0.0, 'class_weight': 'balanced', 'criterion': 'gini', 'max_depth': None, 'max_features': 0.777777778, 'max_leaf_nodes': None, 'max_samples': None, 'min_impurity_decrease': 0.0, 'min_samples_leaf': 0.000625, 'min_samples_split': 0.00125, 'min_weight_fraction_leaf': 0.0, 'n_estimators': 100, 'n_jobs': 1, 'oob_score': False, 'random_state': 7, 'verbose': 0, 'warm_start': False}</td>\n",
       "      <td>7.8305</td>\n",
       "      <td>0.0000e+00</td>\n",
       "    </tr>\n",
       "    <tr>\n",
       "      <td>RandomForestClassifier_MIClassification_FS</td>\n",
       "      <td>6954</td>\n",
       "      <td>11</td>\n",
       "      <td>0.8845</td>\n",
       "      <td>{'n_estimators': 100, 'class_weight': 'balanced', 'max_features': 0.777777778, 'min_samples_leaf': 0.000625, 'min_samples_split': 0.00125}</td>\n",
       "      <td>8.2226</td>\n",
       "      <td>0.0000e+00</td>\n",
       "    </tr>\n",
       "    <tr>\n",
       "      <td>RandomForestClassifier_RandomForestClassifier_FS</td>\n",
       "      <td>6954</td>\n",
       "      <td>7</td>\n",
       "      <td>0.8842</td>\n",
       "      <td>{'n_estimators': 100, 'class_weight': 'balanced', 'max_features': 0.777777778, 'min_samples_leaf': 0.000625, 'min_samples_split': 0.00125}</td>\n",
       "      <td>7.8070</td>\n",
       "      <td>0.0000e+00</td>\n",
       "    </tr>\n",
       "    <tr>\n",
       "      <td>RandomForestClassifier_ANOVAF_FS</td>\n",
       "      <td>6954</td>\n",
       "      <td>9</td>\n",
       "      <td>0.8798</td>\n",
       "      <td>{'n_estimators': 100, 'class_weight': 'balanced', 'max_features': 0.777777778, 'min_samples_leaf': 0.000625, 'min_samples_split': 0.00125}</td>\n",
       "      <td>7.7611</td>\n",
       "      <td>0.0000e+00</td>\n",
       "    </tr>\n",
       "    <tr>\n",
       "      <td>RandomForestClassifier_AdaBoostClassifier_FS</td>\n",
       "      <td>6954</td>\n",
       "      <td>6</td>\n",
       "      <td>0.8793</td>\n",
       "      <td>{'n_estimators': 100, 'class_weight': 'balanced', 'max_features': 0.777777778, 'min_samples_leaf': 0.000625, 'min_samples_split': 0.00125}</td>\n",
       "      <td>5.5898</td>\n",
       "      <td>0.0000e+00</td>\n",
       "    </tr>\n",
       "    <tr>\n",
       "      <td>RandomForestClassifier_ADS</td>\n",
       "      <td>2712</td>\n",
       "      <td>15</td>\n",
       "      <td>0.8742</td>\n",
       "      <td>{'bootstrap': True, 'ccp_alpha': 0.0, 'class_weight': 'balanced', 'criterion': 'gini', 'max_depth': None, 'max_features': 0.777777778, 'max_leaf_nodes': None, 'max_samples': None, 'min_impurity_decrease': 0.0, 'min_samples_leaf': 0.000625, 'min_samples_split': 0.00125, 'min_weight_fraction_leaf': 0.0, 'n_estimators': 100, 'n_jobs': 1, 'oob_score': False, 'random_state': 7, 'verbose': 0, 'warm_start': False}</td>\n",
       "      <td>7.7943</td>\n",
       "      <td>0.0000e+00</td>\n",
       "    </tr>\n",
       "    <tr>\n",
       "      <td>RandomForestClassifier_ANOVAF_FS</td>\n",
       "      <td>6954</td>\n",
       "      <td>7</td>\n",
       "      <td>0.8723</td>\n",
       "      <td>{'n_estimators': 100, 'class_weight': 'balanced', 'max_features': 0.777777778, 'min_samples_leaf': 0.000625, 'min_samples_split': 0.00125}</td>\n",
       "      <td>6.3937</td>\n",
       "      <td>2.4796e-04</td>\n",
       "    </tr>\n",
       "    <tr>\n",
       "      <td>RandomForestClassifier_AdaBoostClassifier_FS</td>\n",
       "      <td>6954</td>\n",
       "      <td>5</td>\n",
       "      <td>0.8701</td>\n",
       "      <td>{'n_estimators': 100, 'class_weight': 'balanced', 'max_features': 0.777777778, 'min_samples_leaf': 0.000625, 'min_samples_split': 0.00125}</td>\n",
       "      <td>5.6610</td>\n",
       "      <td>0.0000e+00</td>\n",
       "    </tr>\n",
       "    <tr>\n",
       "      <td>...</td>\n",
       "      <td>...</td>\n",
       "      <td>...</td>\n",
       "      <td>...</td>\n",
       "      <td>...</td>\n",
       "      <td>...</td>\n",
       "      <td>...</td>\n",
       "    </tr>\n",
       "    <tr>\n",
       "      <td>RandomForestClassifier_ADS</td>\n",
       "      <td>2000</td>\n",
       "      <td>15</td>\n",
       "      <td>0.8374</td>\n",
       "      <td>{'bootstrap': True, 'ccp_alpha': 0.0, 'class_weight': 'balanced', 'criterion': 'gini', 'max_depth': None, 'max_features': 0.777777778, 'max_leaf_nodes': None, 'max_samples': None, 'min_impurity_decrease': 0.0, 'min_samples_leaf': 0.000625, 'min_samples_split': 0.00125, 'min_weight_fraction_leaf': 0.0, 'n_estimators': 100, 'n_jobs': 1, 'oob_score': False, 'random_state': 7, 'verbose': 0, 'warm_start': False}</td>\n",
       "      <td>5.9525</td>\n",
       "      <td>8.3160e-04</td>\n",
       "    </tr>\n",
       "    <tr>\n",
       "      <td>RandomForestClassifier_RandomForestClassifier_FS</td>\n",
       "      <td>6954</td>\n",
       "      <td>3</td>\n",
       "      <td>0.8333</td>\n",
       "      <td>{'n_estimators': 100, 'class_weight': 'balanced', 'max_features': 0.777777778, 'min_samples_leaf': 0.000625, 'min_samples_split': 0.00125}</td>\n",
       "      <td>4.3023</td>\n",
       "      <td>0.0000e+00</td>\n",
       "    </tr>\n",
       "    <tr>\n",
       "      <td>RandomForestClassifier_AdaBoostClassifier_FS</td>\n",
       "      <td>6954</td>\n",
       "      <td>3</td>\n",
       "      <td>0.8325</td>\n",
       "      <td>{'n_estimators': 100, 'class_weight': 'balanced', 'max_features': 0.777777778, 'min_samples_leaf': 0.000625, 'min_samples_split': 0.00125}</td>\n",
       "      <td>4.6879</td>\n",
       "      <td>0.0000e+00</td>\n",
       "    </tr>\n",
       "    <tr>\n",
       "      <td>RandomForestClassifier_ANOVAF_FS</td>\n",
       "      <td>6954</td>\n",
       "      <td>4</td>\n",
       "      <td>0.8292</td>\n",
       "      <td>{'n_estimators': 100, 'class_weight': 'balanced', 'max_features': 0.777777778, 'min_samples_leaf': 0.000625, 'min_samples_split': 0.00125}</td>\n",
       "      <td>4.2537</td>\n",
       "      <td>1.7281e-03</td>\n",
       "    </tr>\n",
       "    <tr>\n",
       "      <td>RandomForestClassifier_AdaBoostClassifier_FS</td>\n",
       "      <td>6954</td>\n",
       "      <td>2</td>\n",
       "      <td>0.8062</td>\n",
       "      <td>{'n_estimators': 100, 'class_weight': 'balanced', 'max_features': 0.777777778, 'min_samples_leaf': 0.000625, 'min_samples_split': 0.00125}</td>\n",
       "      <td>3.7002</td>\n",
       "      <td>0.0000e+00</td>\n",
       "    </tr>\n",
       "    <tr>\n",
       "      <td>RandomForestClassifier_ANOVAF_FS</td>\n",
       "      <td>6954</td>\n",
       "      <td>3</td>\n",
       "      <td>0.7761</td>\n",
       "      <td>{'n_estimators': 100, 'class_weight': 'balanced', 'max_features': 0.777777778, 'min_samples_leaf': 0.000625, 'min_samples_split': 0.00125}</td>\n",
       "      <td>3.6787</td>\n",
       "      <td>0.0000e+00</td>\n",
       "    </tr>\n",
       "    <tr>\n",
       "      <td>SVC_AS</td>\n",
       "      <td>5000</td>\n",
       "      <td>15</td>\n",
       "      <td>0.7222</td>\n",
       "      <td>{'C': 1.0, 'class_weight': 'balanced', 'gamma': 'scale'}</td>\n",
       "      <td>128.1636</td>\n",
       "      <td>9.0126e-02</td>\n",
       "    </tr>\n",
       "    <tr>\n",
       "      <td>RandomForestClassifier_AdaBoostClassifier_FS</td>\n",
       "      <td>6954</td>\n",
       "      <td>1</td>\n",
       "      <td>0.6819</td>\n",
       "      <td>{'n_estimators': 100, 'class_weight': 'balanced', 'max_features': 0.777777778, 'min_samples_leaf': 0.000625, 'min_samples_split': 0.00125}</td>\n",
       "      <td>4.5217</td>\n",
       "      <td>0.0000e+00</td>\n",
       "    </tr>\n",
       "    <tr>\n",
       "      <td>LogisticRegression_AS</td>\n",
       "      <td>5000</td>\n",
       "      <td>15</td>\n",
       "      <td>0.6816</td>\n",
       "      <td>{'C': 1.0, 'class_weight': 'balanced', 'solver': 'liblinear'}</td>\n",
       "      <td>0.2541</td>\n",
       "      <td>7.6294e-06</td>\n",
       "    </tr>\n",
       "    <tr>\n",
       "      <td>RandomForestClassifier_ANOVAF_FS</td>\n",
       "      <td>6954</td>\n",
       "      <td>1</td>\n",
       "      <td>0.6431</td>\n",
       "      <td>{'n_estimators': 100, 'class_weight': 'balanced', 'max_features': 0.777777778, 'min_samples_leaf': 0.000625, 'min_samples_split': 0.00125}</td>\n",
       "      <td>2.4963</td>\n",
       "      <td>0.0000e+00</td>\n",
       "    </tr>\n",
       "  </tbody>\n",
       "</table>"
      ],
      "text/plain": [
       "<IPython.core.display.HTML object>"
      ]
     },
     "metadata": {},
     "output_type": "display_data"
    }
   ],
   "source": [
    "oracle_automl.print_trials(max_rows=20, sort_column='Mean Validation Score')"
   ]
  },
  {
   "cell_type": "code",
   "execution_count": 42,
   "id": "f473a004",
   "metadata": {},
   "outputs": [
    {
     "data": {
      "image/png": "[encoded data removed]",
      "text/plain": [
       "<Figure size 864x432 with 1 Axes>"
      ]
     },
     "metadata": {},
     "output_type": "display_data"
    }
   ],
   "source": [
    "oracle_automl.visualize_algorithm_selection_trials()"
   ]
  },
  {
   "cell_type": "markdown",
   "id": "f68c15f5",
   "metadata": {},
   "source": [
    "### 2.3 Features y modelo seleccionado"
   ]
  },
  {
   "cell_type": "code",
   "execution_count": 43,
   "id": "72b04461",
   "metadata": {},
   "outputs": [
    {
     "data": {
      "text/html": [
       "<table border=\"1\" class=\"dataframe\">\n",
       "  <tbody>\n",
       "    <tr>\n",
       "      <td>Model Name</td>\n",
       "      <td>AutoML Classifier</td>\n",
       "    </tr>\n",
       "    <tr>\n",
       "      <td>Target Variable</td>\n",
       "      <td>riesgo_eac_decada</td>\n",
       "    </tr>\n",
       "    <tr>\n",
       "      <td>Selected Algorithm</td>\n",
       "      <td>RandomForestClassifier</td>\n",
       "    </tr>\n",
       "    <tr>\n",
       "      <td>Task</td>\n",
       "      <td>classification</td>\n",
       "    </tr>\n",
       "    <tr>\n",
       "      <td>Training Dataset Size</td>\n",
       "      <td>(6954, 15)</td>\n",
       "    </tr>\n",
       "    <tr>\n",
       "      <td>CV</td>\n",
       "      <td>5</td>\n",
       "    </tr>\n",
       "    <tr>\n",
       "      <td>Optimization Metric</td>\n",
       "      <td>accuracy</td>\n",
       "    </tr>\n",
       "    <tr>\n",
       "      <td>Selected Hyperparameters</td>\n",
       "      <td>{'bootstrap': True, 'ccp_alpha': 0.0, 'class_weight': 'balanced', 'criterion': 'gini', 'max_depth': None, 'max_features': 0.777777778, 'max_leaf_nodes': None, 'max_samples': None, 'min_impurity_decrease': 0.0, 'min_samples_leaf': 0.000625, 'min_samples_split': 0.00125, 'min_weight_fraction_leaf': 0.0, 'n_estimators': 100, 'n_jobs': 4, 'oob_score': False, 'random_state': 7, 'verbose': 0, 'warm_start': False}</td>\n",
       "    </tr>\n",
       "    <tr>\n",
       "      <td>Initial Number of Features</td>\n",
       "      <td>15</td>\n",
       "    </tr>\n",
       "    <tr>\n",
       "      <td>Initial Features</td>\n",
       "      <td>Index(['sexo', 'edad', 'fumador', 'cigarrillos_por_dia',\n",
       "       'uso_medicamento_presion', 'acv', 'hipertension', 'diabetes',\n",
       "       'colesterol_total', 'presion_arterial_sistolica',\n",
       "       'presion_arterial_diastolica', 'imc', 'frecuencia_cardiaca', 'glicemia',\n",
       "       'categoria_de_fumador'],\n",
       "      dtype='object')</td>\n",
       "    </tr>\n",
       "    <tr>\n",
       "      <td>Selected Number of Features</td>\n",
       "      <td>15</td>\n",
       "    </tr>\n",
       "    <tr>\n",
       "      <td>Selected Features</td>\n",
       "      <td>Index(['sexo', 'edad', 'fumador', 'cigarrillos_por_dia',\n",
       "       'uso_medicamento_presion', 'acv', 'hipertension', 'diabetes',\n",
       "       'colesterol_total', 'presion_arterial_sistolica',\n",
       "       'presion_arterial_diastolica', 'imc', 'frecuencia_cardiaca', 'glicemia',\n",
       "       'categoria_de_fumador'],\n",
       "      dtype='object')</td>\n",
       "    </tr>\n",
       "  </tbody>\n",
       "</table>"
      ],
      "text/plain": [
       "<IPython.core.display.HTML object>"
      ]
     },
     "metadata": {},
     "output_type": "display_data"
    },
    {
     "data": {
      "text/plain": [
       "[['Model Name', 'AutoML Classifier'],\n",
       " ['Target Variable', 'riesgo_eac_decada'],\n",
       " ['Selected Algorithm', 'RandomForestClassifier'],\n",
       " ['Task', 'classification'],\n",
       " ['Training Dataset Size', (6954, 15)],\n",
       " ['CV', 5],\n",
       " ['Optimization Metric', 'accuracy'],\n",
       " ['Selected Hyperparameters',\n",
       "  {'bootstrap': True,\n",
       "   'ccp_alpha': 0.0,\n",
       "   'class_weight': 'balanced',\n",
       "   'criterion': 'gini',\n",
       "   'max_depth': None,\n",
       "   'max_features': 0.777777778,\n",
       "   'max_leaf_nodes': None,\n",
       "   'max_samples': None,\n",
       "   'min_impurity_decrease': 0.0,\n",
       "   'min_samples_leaf': 0.000625,\n",
       "   'min_samples_split': 0.00125,\n",
       "   'min_weight_fraction_leaf': 0.0,\n",
       "   'n_estimators': 100,\n",
       "   'n_jobs': 4,\n",
       "   'oob_score': False,\n",
       "   'random_state': 7,\n",
       "   'verbose': 0,\n",
       "   'warm_start': False}],\n",
       " ['Initial Number of Features', 15],\n",
       " ['Initial Features',\n",
       "  Index(['sexo', 'edad', 'fumador', 'cigarrillos_por_dia',\n",
       "         'uso_medicamento_presion', 'acv', 'hipertension', 'diabetes',\n",
       "         'colesterol_total', 'presion_arterial_sistolica',\n",
       "         'presion_arterial_diastolica', 'imc', 'frecuencia_cardiaca', 'glicemia',\n",
       "         'categoria_de_fumador'],\n",
       "        dtype='object')],\n",
       " ['Selected Number of Features', 15],\n",
       " ['Selected Features',\n",
       "  Index(['sexo', 'edad', 'fumador', 'cigarrillos_por_dia',\n",
       "         'uso_medicamento_presion', 'acv', 'hipertension', 'diabetes',\n",
       "         'colesterol_total', 'presion_arterial_sistolica',\n",
       "         'presion_arterial_diastolica', 'imc', 'frecuencia_cardiaca', 'glicemia',\n",
       "         'categoria_de_fumador'],\n",
       "        dtype='object')]]"
      ]
     },
     "execution_count": 43,
     "metadata": {},
     "output_type": "execute_result"
    }
   ],
   "source": [
    "modelo_automl.show_in_notebook()"
   ]
  },
  {
   "cell_type": "code",
   "execution_count": 44,
   "id": "ddeae269",
   "metadata": {},
   "outputs": [
    {
     "name": "stdout",
     "output_type": "stream",
     "text": [
      "WARNING:py.warnings:/home/datascience/conda/generalmachinelearningforcpusonpython3_7vy/lib/python3.7/site-packages/ads/automl/provider.py:796: UserWarning: color is redundantly defined by the 'color' keyword argument and the fmt string \"k:\" (-> color='k'). The keyword argument will take precedence.\n",
      "  ax.plot(n_features, scores, \"k:\", marker=\"s\", color=\"teal\", markersize=3)\n",
      "\n"
     ]
    },
    {
     "data": {
      "image/png": "[encoded data removed]",
      "text/plain": [
       "<Figure size 864x432 with 1 Axes>"
      ]
     },
     "metadata": {},
     "output_type": "display_data"
    }
   ],
   "source": [
    "oracle_automl.visualize_feature_selection_trials()"
   ]
  },
  {
   "cell_type": "code",
   "execution_count": null,
   "id": "e7fa8def",
   "metadata": {},
   "outputs": [],
   "source": []
  }
 ],
 "metadata": {
  "kernelspec": {
   "display_name": "Python [conda env:generalmachinelearningforcpusonpython3_7vy]",
   "language": "python",
   "name": "conda-env-generalmachinelearningforcpusonpython3_7vy-py"
  },
  "language_info": {
   "codemirror_mode": {
    "name": "ipython",
    "version": 3
   },
   "file_extension": ".py",
   "mimetype": "text/x-python",
   "name": "python",
   "nbconvert_exporter": "python",
   "pygments_lexer": "ipython3",
   "version": "3.7.12"
  }
 },
 "nbformat": 4,
 "nbformat_minor": 5
}
